{
 "cells": [
  {
   "cell_type": "code",
   "execution_count": null,
   "id": "932c274c",
   "metadata": {},
   "outputs": [
    {
     "name": "stderr",
     "output_type": "stream",
     "text": [
      "/home/ubuntu/miniconda3/lib/python3.12/site-packages/tqdm/auto.py:21: TqdmWarning: IProgress not found. Please update jupyter and ipywidgets. See https://ipywidgets.readthedocs.io/en/stable/user_install.html\n",
      "  from .autonotebook import tqdm as notebook_tqdm\n"
     ]
    },
    {
     "name": "stdout",
     "output_type": "stream",
     "text": [
      "Downloading from https://www.kaggle.com/api/v1/datasets/download/daehoyang/flickr2k?dataset_version_number=1...\n"
     ]
    },
    {
     "name": "stderr",
     "output_type": "stream",
     "text": [
      "100%|██████████| 10.9G/10.9G [01:18<00:00, 149MB/s] "
     ]
    },
    {
     "name": "stdout",
     "output_type": "stream",
     "text": [
      "Extracting files...\n"
     ]
    },
    {
     "name": "stderr",
     "output_type": "stream",
     "text": [
      "\n"
     ]
    },
    {
     "name": "stdout",
     "output_type": "stream",
     "text": [
      "Path to dataset files: /home/ubuntu/.cache/kagglehub/datasets/daehoyang/flickr2k/versions/1\n"
     ]
    }
   ],
   "source": [
    "import kagglehub\n",
    "\n",
    "# Download latest version\n",
    "path = kagglehub.dataset_download(\"./data\")\n",
    "\n",
    "print(\"Path to dataset files:\", path)"
   ]
  },
  {
   "cell_type": "code",
   "execution_count": null,
   "id": "b416a2a9",
   "metadata": {},
   "outputs": [
    {
     "name": "stderr",
     "output_type": "stream",
     "text": [
      "--2025-04-17 01:42:12--  https://huggingface.co/FoundationVision/var/resolve/main/model_path/var/vae_ch160v4096z32.pth\n",
      "Resolving huggingface.co (huggingface.co)... 3.167.112.38, 3.167.112.96, 3.167.112.25, ...\n",
      "Connecting to huggingface.co (huggingface.co)|3.167.112.38|:443... connected.\n",
      "HTTP request sent, awaiting response... 404 Not Found\n",
      "2025-04-17 01:42:12 ERROR 404: Not Found.\n",
      "\n",
      "--2025-04-17 01:42:12--  https://huggingface.co/FoundationVision/var/resolve/main/model_path/var/var_d36.pth\n",
      "Resolving huggingface.co (huggingface.co)... 3.167.112.25, 3.167.112.38, 3.167.112.96, ...\n",
      "Connecting to huggingface.co (huggingface.co)|3.167.112.25|:443... connected.\n",
      "HTTP request sent, awaiting response... 404 Not Found\n",
      "2025-04-17 01:42:12 ERROR 404: Not Found.\n",
      "\n"
     ]
    }
   ],
   "source": [
    "################## 1. Download checkpoints and build models\n",
    "import os\n",
    "import os.path as osp\n",
    "import torch\n",
    "setattr(torch.nn.Linear, 'reset_parameters', lambda self: None)     # disable default parameter init for faster speed\n",
    "setattr(torch.nn.LayerNorm, 'reset_parameters', lambda self: None)  # disable default parameter init for faster speed\n",
    "\n",
    "# we recommend using imagenet-512-d36 model to do the in-painting & out-painting & class-condition editing task\n",
    "MODEL_DEPTH = 36    # TODO: =====> please specify MODEL_DEPTH <=====\n",
    "\n",
    "assert MODEL_DEPTH in {16, 20, 24, 30, 36}\n",
    "\n",
    "\n",
    "# download checkpoint\n",
    "hf_home = 'https://huggingface.co/FoundationVision/var/resolve/main'\n",
    "vae_ckpt, var_ckpt = 'var_d36.pth', f'var_d36.pth'\n",
    "if not osp.exists(vae_ckpt): os.system(f'wget {hf_home}/{vae_ckpt}')\n",
    "if not osp.exists(var_ckpt): os.system(f'wget {hf_home}/{var_ckpt}')"
   ]
  }
 ],
 "metadata": {
  "kernelspec": {
   "display_name": "base",
   "language": "python",
   "name": "python3"
  },
  "language_info": {
   "codemirror_mode": {
    "name": "ipython",
    "version": 3
   },
   "file_extension": ".py",
   "mimetype": "text/x-python",
   "name": "python",
   "nbconvert_exporter": "python",
   "pygments_lexer": "ipython3",
   "version": "3.12.2"
  }
 },
 "nbformat": 4,
 "nbformat_minor": 5
}
